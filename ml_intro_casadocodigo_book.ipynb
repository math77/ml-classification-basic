{
  "nbformat": 4,
  "nbformat_minor": 0,
  "metadata": {
    "colab": {
      "name": "ml_intro_casadocodigo_book.ipynb",
      "provenance": [],
      "authorship_tag": "ABX9TyMSKYaMST9hBXzeRXuqb/OQ",
      "include_colab_link": true
    },
    "kernelspec": {
      "name": "python3",
      "display_name": "Python 3"
    },
    "language_info": {
      "name": "python"
    }
  },
  "cells": [
    {
      "cell_type": "markdown",
      "metadata": {
        "id": "view-in-github",
        "colab_type": "text"
      },
      "source": [
        "<a href=\"https://colab.research.google.com/github/math77/ml-classification-basic/blob/main/ml_intro_casadocodigo_book.ipynb\" target=\"_parent\"><img src=\"https://colab.research.google.com/assets/colab-badge.svg\" alt=\"Open In Colab\"/></a>"
      ]
    },
    {
      "cell_type": "markdown",
      "metadata": {
        "id": "dyGo6p8aXBwn"
      },
      "source": [
        "# Cap 01."
      ]
    },
    {
      "cell_type": "code",
      "metadata": {
        "colab": {
          "base_uri": "https://localhost:8080/"
        },
        "id": "zLw_n6WNN146",
        "outputId": "0eda836e-a6bf-4c88-9a94-9c50d8602da4"
      },
      "source": [
        "\"\"\"\n",
        "100% success rate practically impossible to achieve in real life. This algorithm\n",
        "is very easy to be wrong.\n",
        "\"\"\"\n",
        "\n",
        "from sklearn.naive_bayes import MultinomialNB\n",
        "\n",
        "pig1 = [1, 1, 0]\n",
        "pig2 = [1, 1, 0]\n",
        "pig3 = [1, 1, 0]\n",
        "dog1 = [1, 1, 1]\n",
        "dog2 = [0, 1, 1]\n",
        "dog3 = [0, 1, 1]\n",
        "\n",
        "data = [pig1, pig2, pig3, dog1, dog2, dog3]\n",
        "\n",
        "marks = [1, 1, 1, -1, -1, -1]\n",
        "\n",
        "test = [[1, 1, 1], [1, 0, 0], [0, 0, 1]]\n",
        "marks_test = [-1, 1, -1]\n",
        "\n",
        "model = MultinomialNB()\n",
        "\n",
        "# Adapt the model to our data and markings\n",
        "model.fit(data, marks)\n",
        "result = model.predict(test)\n",
        "\n",
        "difference = result - marks_test\n",
        "\n",
        "matching = [d for d in difference if d == 0]\n",
        "\n",
        "matching_rate = 100.0 * len(matching) / len(test)\n",
        "\n",
        "print(result)\n",
        "print(matching_rate)\n"
      ],
      "execution_count": null,
      "outputs": [
        {
          "output_type": "stream",
          "text": [
            "[-1  1 -1]\n",
            "100.0\n"
          ],
          "name": "stdout"
        }
      ]
    },
    {
      "cell_type": "markdown",
      "metadata": {
        "id": "liTnF3yMWrPH"
      },
      "source": [
        "# Cap 02\n"
      ]
    },
    {
      "cell_type": "code",
      "metadata": {
        "colab": {
          "base_uri": "https://localhost:8080/"
        },
        "id": "KhdsebpSW-wL",
        "outputId": "73cab8e9-00b5-49e4-ec5e-06ff766c6e08"
      },
      "source": [
        "import csv\n",
        "\n",
        "from sklearn.naive_bayes import MultinomialNB\n",
        "\n",
        "def calc_percent(result, X, Y):\n",
        "  difference = result - Y\n",
        "  matching = [d for d in difference if d == 0]\n",
        "  \n",
        "  return 100.0 * len(matching) / len(X)\n",
        "\n",
        "\n",
        "def data_load():\n",
        "  X = []\n",
        "  Y = []\n",
        "\n",
        "  file_read = open('/content/acesso.csv', 'r')\n",
        "  reader = csv.reader(file_read)\n",
        "\n",
        "  # Ignore the header by skipping to the next line.\n",
        "  next(reader)\n",
        "\n",
        "  for acessou_home, acessou_como_funciona, acessou_contato, comprou in reader:\n",
        "    X.append([int(acessou_home), int(acessou_como_funciona), int(acessou_contato)])\n",
        "    Y.append(int(comprou))\n",
        "  \n",
        "  return X, Y\n",
        "\n",
        "\n",
        "X, Y = data_load()\n",
        "X_train = X[:90]\n",
        "Y_train = Y[:90]\n",
        "\n",
        "X_test = X[-9:]\n",
        "Y_test = Y[-9:]\n",
        "\n",
        "model = MultinomialNB()\n",
        "model.fit(X_train, Y_train)\n",
        "\n",
        "result = model.predict(X_test)\n",
        "print(calc_percent(result, X_test, Y_test))\n",
        "print(len(X_test))"
      ],
      "execution_count": 10,
      "outputs": [
        {
          "output_type": "stream",
          "text": [
            "88.88888888888889\n",
            "9\n"
          ],
          "name": "stdout"
        }
      ]
    }
  ]
}