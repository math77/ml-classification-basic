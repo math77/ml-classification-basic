{
  "nbformat": 4,
  "nbformat_minor": 0,
  "metadata": {
    "colab": {
      "name": "ml_intro_casadocodigo_book.ipynb",
      "provenance": [],
      "authorship_tag": "ABX9TyNVh+bhOmBrfiOjVPl9UOnC",
      "include_colab_link": true
    },
    "kernelspec": {
      "name": "python3",
      "display_name": "Python 3"
    },
    "language_info": {
      "name": "python"
    }
  },
  "cells": [
    {
      "cell_type": "markdown",
      "metadata": {
        "id": "view-in-github",
        "colab_type": "text"
      },
      "source": [
        "<a href=\"https://colab.research.google.com/github/math77/ml-classification-basic/blob/main/ml_intro_casadocodigo_book.ipynb\" target=\"_parent\"><img src=\"https://colab.research.google.com/assets/colab-badge.svg\" alt=\"Open In Colab\"/></a>"
      ]
    },
    {
      "cell_type": "markdown",
      "metadata": {
        "id": "dyGo6p8aXBwn"
      },
      "source": [
        "# Cap. 01"
      ]
    },
    {
      "cell_type": "code",
      "metadata": {
        "colab": {
          "base_uri": "https://localhost:8080/"
        },
        "id": "zLw_n6WNN146",
        "outputId": "0eda836e-a6bf-4c88-9a94-9c50d8602da4"
      },
      "source": [
        "\"\"\"\n",
        "100% success rate practically impossible to achieve in real life. This algorithm\n",
        "is very easy to be wrong.\n",
        "\"\"\"\n",
        "\n",
        "from sklearn.naive_bayes import MultinomialNB\n",
        "\n",
        "pig1 = [1, 1, 0]\n",
        "pig2 = [1, 1, 0]\n",
        "pig3 = [1, 1, 0]\n",
        "dog1 = [1, 1, 1]\n",
        "dog2 = [0, 1, 1]\n",
        "dog3 = [0, 1, 1]\n",
        "\n",
        "data = [pig1, pig2, pig3, dog1, dog2, dog3]\n",
        "\n",
        "marks = [1, 1, 1, -1, -1, -1]\n",
        "\n",
        "test = [[1, 1, 1], [1, 0, 0], [0, 0, 1]]\n",
        "marks_test = [-1, 1, -1]\n",
        "\n",
        "model = MultinomialNB()\n",
        "\n",
        "# Adapt the model to our data and markings\n",
        "model.fit(data, marks)\n",
        "result = model.predict(test)\n",
        "\n",
        "difference = result - marks_test\n",
        "\n",
        "matching = [d for d in difference if d == 0]\n",
        "\n",
        "matching_rate = 100.0 * len(matching) / len(test)\n",
        "\n",
        "print(result)\n",
        "print(matching_rate)\n"
      ],
      "execution_count": null,
      "outputs": [
        {
          "output_type": "stream",
          "text": [
            "[-1  1 -1]\n",
            "100.0\n"
          ],
          "name": "stdout"
        }
      ]
    },
    {
      "cell_type": "markdown",
      "metadata": {
        "id": "liTnF3yMWrPH"
      },
      "source": [
        "# Cap. 02\n"
      ]
    },
    {
      "cell_type": "code",
      "metadata": {
        "colab": {
          "base_uri": "https://localhost:8080/"
        },
        "id": "KhdsebpSW-wL",
        "outputId": "73cab8e9-00b5-49e4-ec5e-06ff766c6e08"
      },
      "source": [
        "import csv\n",
        "\n",
        "from sklearn.naive_bayes import MultinomialNB\n",
        "\n",
        "def calc_percent(result, X, Y):\n",
        "  difference = result - Y\n",
        "  matching = [d for d in difference if d == 0]\n",
        "  \n",
        "  return 100.0 * len(matching) / len(X)\n",
        "\n",
        "\n",
        "def data_load():\n",
        "  X = []\n",
        "  Y = []\n",
        "\n",
        "  file_read = open('/content/acesso.csv', 'r')\n",
        "  reader = csv.reader(file_read)\n",
        "\n",
        "  # Ignore the header by skipping to the next line.\n",
        "  next(reader)\n",
        "\n",
        "  for acessou_home, acessou_como_funciona, acessou_contato, comprou in reader:\n",
        "    X.append([int(acessou_home), int(acessou_como_funciona), int(acessou_contato)])\n",
        "    Y.append(int(comprou))\n",
        "  \n",
        "  return X, Y\n",
        "\n",
        "\n",
        "X, Y = data_load()\n",
        "X_train = X[:90]\n",
        "Y_train = Y[:90]\n",
        "\n",
        "X_test = X[-9:]\n",
        "Y_test = Y[-9:]\n",
        "\n",
        "model = MultinomialNB()\n",
        "model.fit(X_train, Y_train)\n",
        "\n",
        "result = model.predict(X_test)\n",
        "print(calc_percent(result, X_test, Y_test))\n",
        "print(len(X_test))"
      ],
      "execution_count": null,
      "outputs": [
        {
          "output_type": "stream",
          "text": [
            "88.88888888888889\n",
            "9\n"
          ],
          "name": "stdout"
        }
      ]
    },
    {
      "cell_type": "markdown",
      "metadata": {
        "id": "oF4u8VLQjKJC"
      },
      "source": [
        "# Cap. 03"
      ]
    },
    {
      "cell_type": "code",
      "metadata": {
        "colab": {
          "base_uri": "https://localhost:8080/"
        },
        "id": "18QKHA_hjZ9_",
        "outputId": "c774377c-0bce-4aae-b499-21498092dcf3"
      },
      "source": [
        "from sklearn.naive_bayes import MultinomialNB\n",
        "import pandas as pd\n",
        "\n",
        "\n",
        "def calc_percent(result, X, Y):\n",
        "  difference = result - Y\n",
        "  matching = [d for d in difference if d == 0]\n",
        "\n",
        "  return 100.0 * len(matching) / len(X)\n",
        "\n",
        "\n",
        "#df -> dataframe\n",
        "df = pd.read_csv('/content/buscas.csv')\n",
        "X_df = df[['home', 'busca', 'logado']]\n",
        "Y_df = df['comprou']\n",
        "Xdummies_df = pd.get_dummies(X_df)\n",
        "Ydummies_df = Y_df\n",
        "\n",
        "X = Xdummies_df.values\n",
        "Y = Ydummies_df.values\n",
        "\n",
        "train_size = int(0.9 * len(Y))\n",
        "test_size = len(Y) - train_size\n",
        "\n",
        "train_data = X[:train_size]\n",
        "train_marks = Y[:train_size]\n",
        "\n",
        "test_data = X[-test_size:]\n",
        "test_marks = Y[-test_size:]\n",
        "\n",
        "model = MultinomialNB()\n",
        "model.fit(train_data, train_marks)\n",
        "\n",
        "result = model.predict(test_data)\n",
        "\n",
        "print(calc_percent(result, test_data, test_marks))"
      ],
      "execution_count": null,
      "outputs": [
        {
          "output_type": "stream",
          "text": [
            "82.0\n"
          ],
          "name": "stdout"
        }
      ]
    },
    {
      "cell_type": "markdown",
      "metadata": {
        "id": "XxPpfgxdj65j"
      },
      "source": [
        "# Cap. 04"
      ]
    },
    {
      "cell_type": "code",
      "metadata": {
        "colab": {
          "base_uri": "https://localhost:8080/"
        },
        "id": "oO2gTU5ikAje",
        "outputId": "652a35fb-9352-46b2-c40b-8ffc36b58df1"
      },
      "source": [
        "from collections import Counter\n",
        "from sklearn.naive_bayes import MultinomialNB\n",
        "import pandas as pd\n",
        "\n",
        "\n",
        "df = pd.read_csv('/content/buscas2.csv')\n",
        "X_df = df[['home', 'busca', 'logado']]\n",
        "Y_df = df['comprou']\n",
        "\n",
        "Xdummies_df = pd.get_dummies(X_df)\n",
        "Ydummies_df = Y_df\n",
        "\n",
        "X = Xdummies_df.values\n",
        "Y = Ydummies_df.values\n",
        "\n",
        "train_percent = 0.9\n",
        "\n",
        "train_size = int(train_percent * len(Y))\n",
        "test_size = len(Y) - train_size\n",
        "\n",
        "train_data = X[:train_size]\n",
        "train_marks = Y[:train_size]\n",
        "\n",
        "test_data = X[-test_size:]\n",
        "test_marks = Y[-test_size:]\n",
        "\n",
        "model = MultinomialNB()\n",
        "\n",
        "model.fit(train_data, train_marks)\n",
        "\n",
        "result = model.predict(test_data)\n",
        "\n",
        "matchings = result == test_marks\n",
        "\n",
        "total_matching = sum(matchings)\n",
        "total_elements = len(test_data)\n",
        "\n",
        "matching_rate = 100.0 * total_matching / total_elements\n",
        "\n",
        "matching_base = max(Counter(test_marks).values())\n",
        "matching_base_rate = 100.0 * matching_base / len(test_marks)\n",
        "\n",
        "print(matching_rate)\n",
        "print(matching_base_rate)"
      ],
      "execution_count": null,
      "outputs": [
        {
          "output_type": "stream",
          "text": [
            "82.0\n",
            "82.0\n"
          ],
          "name": "stdout"
        }
      ]
    },
    {
      "cell_type": "markdown",
      "metadata": {
        "id": "T-awXGreteUh"
      },
      "source": [
        "# Cap. 06"
      ]
    },
    {
      "cell_type": "code",
      "metadata": {
        "colab": {
          "base_uri": "https://localhost:8080/"
        },
        "id": "-vD31hE6tkj1",
        "outputId": "9c21e620-fc08-4e16-e8e9-8122bc719412"
      },
      "source": [
        "import pandas as pd\n",
        "from sklearn.naive_bayes import MultinomialNB\n",
        "from sklearn.ensemble import AdaBoostClassifier\n",
        "\n",
        "def fit_and_predict(algorithm, model, train_data, train_marks, test_data, test_marks):\n",
        "  model.fit(train_data, train_marks)\n",
        "\n",
        "  result = model.predict(test_data)\n",
        "  matchings = result == test_marks\n",
        "  matching_rate = 100.0 * sum(matchings) / len(test_data)\n",
        "\n",
        "  print(f\"{algorithm} matching rate: {matching_rate}\")\n",
        "\n",
        "  return matching_rate\n",
        "\n",
        "def real_test(algorithm, model, validation_data, validation_marks):\n",
        "  result = model.predict(validation_data)\n",
        "  matchings = result == validation_marks\n",
        "\n",
        "  matching_rate = 100.0 * sum(matchings) / len(validation_marks)\n",
        "\n",
        "  print(f\"{algorithm} - winner! matching rate: {matching_rate}\")\n",
        "\n",
        "\n",
        "\n",
        "df = pd.read_csv('/content/buscas.csv')\n",
        "X_df = df[['home', 'busca', 'logado']]\n",
        "Y_df = df['comprou']\n",
        "\n",
        "X_dummies = pd.get_dummies(X_df)\n",
        "Y_dummies = Y_df\n",
        "\n",
        "X = X_dummies.values\n",
        "Y = Y_dummies.values\n",
        "\n",
        "train_percent = 0.8\n",
        "test_percent = 0.1\n",
        "\n",
        "train_size = int(train_percent * len(Y))\n",
        "test_size = int(test_percent * len(Y))\n",
        "valiadtion_size = len(Y) - train_size - test_size\n",
        "\n",
        "end_train = train_size + test_size\n",
        "\n",
        "train_data = X[:train_size]\n",
        "train_marks = Y[:train_size]\n",
        "\n",
        "test_data = X[train_size:end_train]\n",
        "test_marks = Y[train_size:end_train]\n",
        "\n",
        "validation_data = X[end_train:]\n",
        "validation_marks = Y[end_train:]\n",
        "\n",
        "model_nb = MultinomialNB()\n",
        "model_ada = AdaBoostClassifier()\n",
        "\n",
        "r_multinomial = fit_and_predict(\"MultinomialNB\", model_nb, train_data, train_marks, test_data, test_marks)\n",
        "r_ada = fit_and_predict(\"AdaBoost\", model_ada, train_data, train_marks, test_data, test_marks)\n",
        "\n",
        "winner = None\n",
        "winner_name = None\n",
        "\n",
        "if r_multinomial > r_ada:\n",
        "  winner = model_nb\n",
        "  winner_name = \"MultinomialNB\"\n",
        "else:\n",
        "  winner = model_ada\n",
        "  winner_name = \"AdaBoost\"\n",
        "\n",
        "real_test(winner_name, winner, validation_data, validation_marks)"
      ],
      "execution_count": null,
      "outputs": [
        {
          "output_type": "stream",
          "text": [
            "MultinomialNB matching rate: 82.0\n",
            "AdaBoost matching rate: 84.0\n",
            "AdaBoost - winner! matching rate: 85.0\n"
          ],
          "name": "stdout"
        }
      ]
    },
    {
      "cell_type": "markdown",
      "metadata": {
        "id": "dPJF9eDM11ei"
      },
      "source": [
        "# Cap. 07"
      ]
    },
    {
      "cell_type": "code",
      "metadata": {
        "colab": {
          "base_uri": "https://localhost:8080/"
        },
        "id": "1imypagA16fD",
        "outputId": "2c128642-086e-48d6-cfca-cdfb57b42abc"
      },
      "source": [
        "from collections import Counter\n",
        "from sklearn.naive_bayes import MultinomialNB\n",
        "from sklearn.ensemble import AdaBoostClassifier\n",
        "from sklearn.multiclass import OneVsRestClassifier, OneVsOneClassifier\n",
        "from sklearn.svm import LinearSVC\n",
        "import pandas as pd\n",
        "\n",
        "\n",
        "\n",
        "def fit_and_predict(algorithm, model, train_data, train_marks, test_data, test_marks):\n",
        "  model.fit(train_data, train_marks)\n",
        "  result = model.predict(test_data)\n",
        "\n",
        "  matchings = result == test_marks\n",
        "\n",
        "  matching_rate = 100.0 * sum(matchings) / len(test_data)\n",
        "\n",
        "  print(f\"{algorithm} matching rate: {matching_rate}\")\n",
        "\n",
        "  return matching_rate\n",
        "\n",
        "\n",
        "def real_test(model, validation_data, validation_marks):\n",
        "  result = model.predict(validation_data)\n",
        "\n",
        "  matchings = result == validation_marks\n",
        "\n",
        "  matching_rate = 100.0 * sum(matchings) / len(validation_marks)\n",
        "\n",
        "  print(f\"Winner - matching rate: {matching_rate}\")\n",
        "\n",
        "\n",
        "df = pd.read_csv('/content/situacao_cliente.csv')\n",
        "X_df = df[['recencia', 'frequencia', 'semanas_de_inscricao']]\n",
        "Y_df = df['situacao']\n",
        "\n",
        "Xdummies_df = pd.get_dummies(X_df)\n",
        "Ydummies_df = Y_df\n",
        "\n",
        "X = Xdummies_df.values\n",
        "Y = Ydummies_df.values\n",
        "\n",
        "train_percent = 0.8\n",
        "test_percent = 0.1\n",
        "\n",
        "train_size = int(train_percent * len(Y))\n",
        "test_size = int(test_percent * len(Y))\n",
        "validation_size = len(Y) - train_size - test_size\n",
        "\n",
        "train_data = X[:train_size]\n",
        "train_marks = Y[:train_size]\n",
        "\n",
        "end_train = train_size + test_size\n",
        "\n",
        "test_data = X[train_size:end_train]\n",
        "test_marks = Y[train_size:end_train]\n",
        "\n",
        "validation_data = X[end_train:]\n",
        "validation_marks = Y[end_train:]\n",
        "\n",
        "results = {}\n",
        "\n",
        "model_nb = MultinomialNB()\n",
        "model_ada = AdaBoostClassifier()\n",
        "model_one_rest = OneVsRestClassifier(LinearSVC(random_state=0, dual=False))\n",
        "model_one_one = OneVsOneClassifier(LinearSVC(random_state=0, dual=False))\n",
        "\n",
        "nb_result = fit_and_predict(\"MultinomialNB\", model_nb, train_data, train_marks, test_data, test_marks)\n",
        "ada_result = fit_and_predict(\"AdaBoost\", model_ada, train_data, train_marks, test_data, test_marks)\n",
        "one_rest_result = fit_and_predict(\"OneVsRest\", model_one_rest, train_data, train_marks, test_data, test_marks)\n",
        "one_one_result = fit_and_predict(\"OneVsOne\", model_one_one, train_data, train_marks, test_data, test_marks)\n",
        "\n",
        "results[nb_result] = model_nb\n",
        "results[ada_result] = model_ada\n",
        "results[one_rest_result] = model_one_rest\n",
        "results[one_one_result] = model_one_one\n",
        "\n",
        "winner = results[max(results)]\n",
        "\n",
        "real_test(winner, validation_data, validation_marks)"
      ],
      "execution_count": 7,
      "outputs": [
        {
          "output_type": "stream",
          "text": [
            "MultinomialNB matching rate: 72.72727272727273\n",
            "AdaBoost matching rate: 68.18181818181819\n",
            "OneVsRest matching rate: 90.9090909090909\n",
            "OneVsOne matching rate: 100.0\n",
            "Winner - matching rate: 100.0\n"
          ],
          "name": "stdout"
        }
      ]
    },
    {
      "cell_type": "markdown",
      "metadata": {
        "id": "pCh9-Qxv1OT_"
      },
      "source": [
        "# Cap. 08"
      ]
    },
    {
      "cell_type": "code",
      "metadata": {
        "colab": {
          "base_uri": "https://localhost:8080/"
        },
        "id": "4Heu4on81SMh",
        "outputId": "ebe6dd7f-124c-4343-ecf1-80c022b97c2b"
      },
      "source": [
        "from sklearn.naive_bayes import MultinomialNB\n",
        "from sklearn.ensemble import AdaBoostClassifier\n",
        "from sklearn.svm import LinearSVC\n",
        "from sklearn.multiclass import OneVsOneClassifier, OneVsRestClassifier\n",
        "from sklearn.model_selection import cross_val_score\n",
        "import pandas as pd\n",
        "import numpy as np\n",
        "\n",
        "\n",
        "def fit_and_predict(algorithm, model, train_data, train_marks):\n",
        "  k = 10\n",
        "  \n",
        "  scores = cross_val_score(model, train_data, train_marks, cv=k)\n",
        "  matching_rate = np.mean(scores)\n",
        "  \n",
        "  print(f\"{algorithm} matching rate: {matching_rate}\")\n",
        "\n",
        "  return matching_rate\n",
        "\n",
        "\n",
        "def real_test(model, validation_data, validation_marks):\n",
        "  result = model.predict(validation_data)\n",
        "\n",
        "  matchings = result == validation_marks\n",
        "\n",
        "  matching_rate = 100.0 * sum(matchings) / len(validation_data)\n",
        "\n",
        "  print(f\"Winner - matching rate: {matching_rate}\")\n",
        "\n",
        "\n",
        "df = pd.read_csv('/content/situacao_cliente.csv')\n",
        "X_df = df[['recencia', 'frequencia', 'semanas_de_inscricao']]\n",
        "Y_df = df['situacao']\n",
        "\n",
        "Xdummies_df = pd.get_dummies(X_df)\n",
        "Ydummies_df = Y_df\n",
        "\n",
        "X = Xdummies_df.values\n",
        "Y = Ydummies_df.values\n",
        "\n",
        "train_percent = 0.8\n",
        "\n",
        "train_size = int(train_percent * len(Y))\n",
        "#validation_size = len(Y) - train_size\n",
        "\n",
        "train_data = X[:train_size]\n",
        "train_marks = Y[:train_size]\n",
        "\n",
        "validation_data = X[train_size:]\n",
        "validation_marks = Y[train_size:]\n",
        "\n",
        "results = {}\n",
        "\n",
        "model_one_rest = OneVsRestClassifier(LinearSVC(random_state=0, dual=False))\n",
        "\n",
        "model_one_one = OneVsOneClassifier(LinearSVC(random_state=0, dual=False))\n",
        "model_nb = MultinomialNB()\n",
        "model_ada = AdaBoostClassifier()\n",
        "\n",
        "result_one_rest = fit_and_predict(\"OneVsRest\", model_one_rest, train_data, train_marks)\n",
        "result_one_one = fit_and_predict(\"OneVsOne\", model_one_one, train_data, train_marks)\n",
        "result_nb = fit_and_predict(\"MultinomialNB\", model_nb, train_data, train_marks)\n",
        "result_ada = fit_and_predict(\"AdaBoost\", model_ada, train_data, train_marks)\n",
        "\n",
        "results[result_one_rest] = model_one_rest\n",
        "results[result_one_one] = model_one_one\n",
        "results[result_nb] = model_nb\n",
        "results[result_ada] = model_ada\n",
        "\n",
        "winner = results[max(results)]\n",
        "winner.fit(train_data, train_marks)\n",
        "\n",
        "real_test(winner, validation_data, validation_marks)"
      ],
      "execution_count": 15,
      "outputs": [
        {
          "output_type": "stream",
          "text": [
            "OneVsRest matching rate: 0.9166666666666666\n",
            "OneVsOne matching rate: 0.9888888888888889\n",
            "MultinomialNB matching rate: 0.8277777777777778\n",
            "AdaBoost matching rate: 0.7611111111111111\n",
            "Winner - matching rate: 100.0\n"
          ],
          "name": "stdout"
        }
      ]
    }
  ]
}