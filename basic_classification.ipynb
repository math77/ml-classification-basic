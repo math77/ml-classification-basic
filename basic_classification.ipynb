{
  "nbformat": 4,
  "nbformat_minor": 0,
  "metadata": {
    "colab": {
      "name": "basic_classification.ipynb",
      "provenance": [],
      "authorship_tag": "ABX9TyMDmWG0oQVzDx3CgntTSri4",
      "include_colab_link": true
    },
    "kernelspec": {
      "name": "python3",
      "display_name": "Python 3"
    },
    "language_info": {
      "name": "python"
    }
  },
  "cells": [
    {
      "cell_type": "markdown",
      "metadata": {
        "id": "view-in-github",
        "colab_type": "text"
      },
      "source": [
        "<a href=\"https://colab.research.google.com/github/math77/ml-classification-basic/blob/main/basic_classification.ipynb\" target=\"_parent\"><img src=\"https://colab.research.google.com/assets/colab-badge.svg\" alt=\"Open In Colab\"/></a>"
      ]
    },
    {
      "cell_type": "code",
      "metadata": {
        "colab": {
          "base_uri": "https://localhost:8080/"
        },
        "id": "zLw_n6WNN146",
        "outputId": "0eda836e-a6bf-4c88-9a94-9c50d8602da4"
      },
      "source": [
        "\"\"\"\n",
        "100% success rate practically impossible to achieve in real life. This algorithm\n",
        "is very easy to be wrong.\n",
        "\"\"\"\n",
        "\n",
        "from sklearn.naive_bayes import MultinomialNB\n",
        "\n",
        "pig1 = [1, 1, 0]\n",
        "pig2 = [1, 1, 0]\n",
        "pig3 = [1, 1, 0]\n",
        "dog1 = [1, 1, 1]\n",
        "dog2 = [0, 1, 1]\n",
        "dog3 = [0, 1, 1]\n",
        "\n",
        "data = [pig1, pig2, pig3, dog1, dog2, dog3]\n",
        "\n",
        "marks = [1, 1, 1, -1, -1, -1]\n",
        "\n",
        "test = [[1, 1, 1], [1, 0, 0], [0, 0, 1]]\n",
        "marks_test = [-1, 1, -1]\n",
        "\n",
        "model = MultinomialNB()\n",
        "\n",
        "# Adapt the model to our data and markings\n",
        "model.fit(data, marks)\n",
        "result = model.predict(test)\n",
        "\n",
        "difference = result - marks_test\n",
        "\n",
        "matching = [d for d in difference if d == 0]\n",
        "\n",
        "matching_rate = 100.0 * len(matching) / len(test)\n",
        "\n",
        "print(result)\n",
        "print(matching_rate)\n"
      ],
      "execution_count": 2,
      "outputs": [
        {
          "output_type": "stream",
          "text": [
            "[-1  1 -1]\n",
            "100.0\n"
          ],
          "name": "stdout"
        }
      ]
    }
  ]
}